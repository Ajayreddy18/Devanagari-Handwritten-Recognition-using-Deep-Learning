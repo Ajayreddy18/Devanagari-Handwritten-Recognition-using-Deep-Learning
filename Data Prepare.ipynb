{
 "cells": [
  {
   "cell_type": "code",
   "execution_count": 1,
   "metadata": {},
   "outputs": [],
   "source": [
    "import numpy as np\n",
    "import matplotlib.pyplot as plt\n",
    "import os\n",
    "from keras.models import *\n",
    "import pandas as pd\n",
    "from keras.layers import *\n",
    "from keras.optimizers import *\n",
    "import skimage.io as io\n",
    "from sklearn.model_selection import train_test_split"
   ]
  },
  {
   "cell_type": "code",
   "execution_count": 2,
   "metadata": {},
   "outputs": [],
   "source": [
    "train_dir = os.listdir('C:\\\\Users\\\\91970\\\\Train')\n",
    "test_dir = os.listdir('C:\\\\Users\\\\91970\\\\Test')"
   ]
  },
  {
   "cell_type": "code",
   "execution_count": 3,
   "metadata": {},
   "outputs": [],
   "source": [
    "def create_train_data():\n",
    "    ref = {}\n",
    "    X_train = []\n",
    "    Y_train = []\n",
    "    for i in range(0,10,1):\n",
    "        p = 37+i\n",
    "        ref[p] = i\n",
    "    for names in train_dir:\n",
    "        x = names.split('_')\n",
    "        if x[0]=='character':\n",
    "            ref[int(x[1])] = x[2]\n",
    "        di = 'C:\\\\Users\\\\91970\\\\Train\\\\'+names\n",
    "        images = os.listdir(di)\n",
    "        for files in images:\n",
    "            files = di+'/'+files\n",
    "            img = io.imread(files)\n",
    "            X_train.append(img)\n",
    "            if x[0]=='character':\n",
    "                Y_train.append(int(x[1]))\n",
    "            elif x[0]=='digit':\n",
    "                Y_train.append(37 + int(x[1]))\n",
    "    X_train = np.array(X_train)\n",
    "    Y_train = np.asarray(Y_train)\n",
    "    return X_train, Y_train, ref"
   ]
  },
  {
   "cell_type": "code",
   "execution_count": 4,
   "metadata": {},
   "outputs": [],
   "source": [
    "def create_test_data():\n",
    "    X_test = []\n",
    "    Y_test = []\n",
    "    for names in test_dir:\n",
    "        x = names.split('_')\n",
    "        di = 'C:\\\\Users\\\\91970\\\\Test\\\\'+names\n",
    "        images = os.listdir(di)\n",
    "        for files in images:\n",
    "            files = di+'/'+files\n",
    "            img = io.imread(files)\n",
    "            X_test.append(img)\n",
    "            if x[0]=='character':\n",
    "                Y_test.append(int(x[1]))\n",
    "            elif x[0]=='digit':\n",
    "                Y_test.append(37 + int(x[1]))\n",
    "    X_test = np.array(X_test)\n",
    "    Y_test = np.asarray(Y_test)\n",
    "    return X_test, Y_test"
   ]
  },
  {
   "cell_type": "code",
   "execution_count": 5,
   "metadata": {},
   "outputs": [],
   "source": [
    "X_train, Y_train, ref = create_train_data()\n",
    "X_test, Y_test = create_test_data()"
   ]
  },
  {
   "cell_type": "code",
   "execution_count": 1,
   "metadata": {},
   "outputs": [
    {
     "ename": "NameError",
     "evalue": "name 'X_train' is not defined",
     "output_type": "error",
     "traceback": [
      "\u001b[1;31m---------------------------------------------------------------------------\u001b[0m",
      "\u001b[1;31mNameError\u001b[0m                                 Traceback (most recent call last)",
      "Cell \u001b[1;32mIn[1], line 1\u001b[0m\n\u001b[1;32m----> 1\u001b[0m X_train \u001b[38;5;241m=\u001b[39m \u001b[43mX_train\u001b[49m\u001b[38;5;241m.\u001b[39mreshape([\u001b[38;5;241m78200\u001b[39m,\u001b[38;5;241m-\u001b[39m\u001b[38;5;241m1\u001b[39m])\n\u001b[0;32m      2\u001b[0m \u001b[38;5;28mprint\u001b[39m(X_train\u001b[38;5;241m.\u001b[39mshape)\n\u001b[0;32m      3\u001b[0m df \u001b[38;5;241m=\u001b[39m pd\u001b[38;5;241m.\u001b[39mDataFrame(X_train)\n",
      "\u001b[1;31mNameError\u001b[0m: name 'X_train' is not defined"
     ]
    }
   ],
   "source": [
    "X_train = X_train.reshape([78200,-1])\n",
    "print(X_train.shape)\n",
    "df = pd.DataFrame(X_train)\n",
    "df.to_csv('X_train.csv')"
   ]
  },
  {
   "cell_type": "code",
   "execution_count": 7,
   "metadata": {},
   "outputs": [
    {
     "name": "stdout",
     "output_type": "stream",
     "text": [
      "(13800, 32, 32)\n",
      "(13800, 1024)\n"
     ]
    }
   ],
   "source": [
    "print(X_test.shape)\n",
    "X_test = X_test.reshape([13800,1024])\n",
    "print(X_test.shape)\n",
    "df = pd.DataFrame(X_test)\n",
    "df.to_csv('X_test.csv')"
   ]
  },
  {
   "cell_type": "code",
   "execution_count": 8,
   "metadata": {},
   "outputs": [
    {
     "name": "stdout",
     "output_type": "stream",
     "text": [
      "(78200, 1)\n"
     ]
    }
   ],
   "source": [
    "Y_train = Y_train.reshape([78200,-1])\n",
    "print(Y_train.shape)\n",
    "df = pd.DataFrame(Y_train)\n",
    "df.to_csv('Y_train.csv')"
   ]
  },
  {
   "cell_type": "code",
   "execution_count": 9,
   "metadata": {},
   "outputs": [
    {
     "name": "stdout",
     "output_type": "stream",
     "text": [
      "(13800, 1)\n"
     ]
    }
   ],
   "source": [
    "Y_test = Y_test.reshape([13800,-1])\n",
    "print(Y_test.shape)\n",
    "df = pd.DataFrame(Y_test)\n",
    "df.to_csv('Y_test.csv')"
   ]
  },
  {
   "cell_type": "code",
   "execution_count": 10,
   "metadata": {},
   "outputs": [],
   "source": [
    "np.save('References.npy',ref)"
   ]
  }
 ],
 "metadata": {
  "kernelspec": {
   "display_name": "Python 3",
   "language": "python",
   "name": "python3"
  },
  "language_info": {
   "codemirror_mode": {
    "name": "ipython",
    "version": 3
   },
   "file_extension": ".py",
   "mimetype": "text/x-python",
   "name": "python",
   "nbconvert_exporter": "python",
   "pygments_lexer": "ipython3",
   "version": "3.11.9"
  }
 },
 "nbformat": 4,
 "nbformat_minor": 2
}
